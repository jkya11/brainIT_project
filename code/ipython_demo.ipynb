{
 "cells": [
  {
   "cell_type": "code",
   "execution_count": 5,
   "metadata": {
    "collapsed": false
   },
   "outputs": [
    {
     "ename": "ImportError",
     "evalue": "No module named model",
     "traceback": [
      "\u001b[1;31m\u001b[0m",
      "\u001b[1;31mImportError\u001b[0mTraceback (most recent call last)",
      "\u001b[1;32m<ipython-input-5-5895806a2637>\u001b[0m in \u001b[0;36m<module>\u001b[1;34m()\u001b[0m\n\u001b[1;32m----> 1\u001b[1;33m \u001b[1;32mfrom\u001b[0m \u001b[0mmodel\u001b[0m \u001b[1;32mimport\u001b[0m \u001b[1;33m*\u001b[0m\u001b[1;33m\u001b[0m\u001b[0m\n\u001b[0m\u001b[0;32m      2\u001b[0m \u001b[1;32mimport\u001b[0m \u001b[0mskimage\u001b[0m\u001b[1;33m\u001b[0m\u001b[0m\n\u001b[0;32m      3\u001b[0m \u001b[1;32mimport\u001b[0m \u001b[0mpylab\u001b[0m\u001b[1;33m\u001b[0m\u001b[0m\n\u001b[0;32m      4\u001b[0m \u001b[0mget_ipython\u001b[0m\u001b[1;33m(\u001b[0m\u001b[1;33m)\u001b[0m\u001b[1;33m.\u001b[0m\u001b[0mmagic\u001b[0m\u001b[1;33m(\u001b[0m\u001b[1;34mu'matplotlib inline'\u001b[0m\u001b[1;33m)\u001b[0m\u001b[1;33m\u001b[0m\u001b[0m\n\u001b[0;32m      5\u001b[0m \u001b[1;33m\u001b[0m\u001b[0m\n",
      "\u001b[1;31mImportError\u001b[0m: No module named model"
     ],
     "output_type": "error"
    }
   ],
   "source": [
    "from model import *\n",
    "import skimage\n",
    "import pylab\n",
    "%matplotlib inline\n",
    "\n",
    "model_path='./models/model-72'\n",
    "maxlen=30\n",
    "\n",
    "with open(vgg_path) as f:\n",
    "    fileContent = f.read()\n",
    "    graph_def = tf.GraphDef()\n",
    "    graph_def.ParseFromString(fileContent)\n",
    "\n",
    "images = tf.placeholder(\"float32\", [1, 224, 224, 3])\n",
    "tf.import_graph_def(graph_def, input_map={\"images\":images})\n",
    " \n",
    "ixtoword = np.load('./data/ixtoword.npy').tolist()\n",
    "n_words = len(ixtoword)\n",
    "\n",
    "sess = tf.InteractiveSession()\n",
    " \n",
    "caption_generator = Caption_Generator(\n",
    "        dim_image=dim_image,\n",
    "        dim_hidden=dim_hidden,\n",
    "        dim_embed=dim_embed,\n",
    "        batch_size=batch_size,\n",
    "        n_lstm_steps=maxlen,\n",
    "        n_words=n_words)\n",
    "\n",
    "graph = tf.get_default_graph()\n",
    "\n",
    " \n",
    "fc7_tf, generated_words_tf = caption_generator.build_generator(maxlen=maxlen)\n",
    "     \n",
    "saver = tf.train.Saver()\n",
    "saver.restore(sess, model_path)\n",
    "\n",
    "def captioning(test_image_path=None):\n",
    "\n",
    " \n",
    "    pylab.imshow(skimage.io.imread(test_image_path))\n",
    "    pylab.show()\n",
    "    \n",
    " \n",
    "    image_val = read_image(test_image_path)\n",
    "    fc7 = sess.run(graph.get_tensor_by_name(\"import/fc7_relu:0\"), feed_dict={images:image_val})\n",
    "    \n",
    " \n",
    "    generated_word_index= sess.run(generated_words_tf, feed_dict={fc7_tf:fc7})\n",
    "    generated_word_index = np.hstack(generated_word_index)\n",
    " \n",
    "    generated_words = [ixtoword[x] for x in generated_word_index]\n",
    "    punctuation = np.argmax(np.array(generated_words) == '.')+1\n",
    " \n",
    "    generated_words = generated_words[:punctuation]\n",
    "    generated_sentence = ' '.join(generated_words)\n",
    "    print generated_sentence"
   ]
  },
  {
   "cell_type": "code",
   "execution_count": null,
   "metadata": {},
   "outputs": [],
   "source": [
    ""
   ]
  }
 ],
 "metadata": {
  "kernelspec": {
   "display_name": "Python 2",
   "language": "python",
   "name": "python2"
  },
  "language_info": {
   "codemirror_mode": {
    "name": "ipython",
    "version": 2.0
   },
   "file_extension": ".py",
   "mimetype": "text/x-python",
   "name": "python",
   "nbconvert_exporter": "python",
   "pygments_lexer": "ipython2",
   "version": "2.7.10"
  }
 },
 "nbformat": 4,
 "nbformat_minor": 0
}